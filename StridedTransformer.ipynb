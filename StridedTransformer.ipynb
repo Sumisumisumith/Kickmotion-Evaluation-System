{
  "cells": [
    {
      "cell_type": "markdown",
      "metadata": {
        "id": "view-in-github",
        "colab_type": "text"
      },
      "source": [
        "<a href=\"https://colab.research.google.com/github/Sumisumisumith/Kickmotion-Evaluation-System/blob/main/StridedTransformer.ipynb\" target=\"_parent\"><img src=\"https://colab.research.google.com/assets/colab-badge.svg\" alt=\"Open In Colab\"/></a>"
      ]
    },
    {
      "cell_type": "code",
      "execution_count": null,
      "metadata": {
        "colab": {
          "base_uri": "https://localhost:8080/"
        },
        "id": "HtjTYeK84YYe",
        "outputId": "671ee6ad-3f0a-4aab-8ab1-05058343214c"
      },
      "outputs": [
        {
          "name": "stdout",
          "output_type": "stream",
          "text": [
            "/content/drive/MyDrive/MyColab\n",
            "Cloning into 'StridedTransformer-Pose3D'...\n",
            "remote: Enumerating objects: 226, done.\u001b[K\n",
            "remote: Counting objects: 100% (61/61), done.\u001b[K\n",
            "remote: Compressing objects: 100% (36/36), done.\u001b[K\n",
            "remote: Total 226 (delta 36), reused 47 (delta 24), pack-reused 165\u001b[K\n",
            "Receiving objects: 100% (226/226), 28.37 MiB | 7.54 MiB/s, done.\n",
            "Resolving deltas: 100% (94/94), done.\n"
          ]
        }
      ],
      "source": [
        "#ファイルにstrided transformerをクローン\n",
        "\"\"\"\n",
        "%cd /content/drive/MyDrive/MyColab\n",
        "!git clone https://github.com/Vegetebird/StridedTransformer-Pose3D.git\n",
        "\"\"\""
      ]
    },
    {
      "cell_type": "code",
      "execution_count": null,
      "metadata": {
        "colab": {
          "base_uri": "https://localhost:8080/"
        },
        "id": "oz4pLAQknFUb",
        "outputId": "979a3fca-94a4-4c97-9c70-50f26ee447ec"
      },
      "outputs": [
        {
          "output_type": "stream",
          "name": "stdout",
          "text": [
            "/content/drive/MyDrive/MyColab/StridedTransformer-Pose3D\n",
            "Requirement already satisfied: gdown in /usr/local/lib/python3.10/dist-packages (4.6.6)\n",
            "Collecting gdown\n",
            "  Downloading gdown-4.7.1-py3-none-any.whl (15 kB)\n",
            "Requirement already satisfied: filelock in /usr/local/lib/python3.10/dist-packages (from gdown) (3.13.1)\n",
            "Requirement already satisfied: requests[socks] in /usr/local/lib/python3.10/dist-packages (from gdown) (2.31.0)\n",
            "Requirement already satisfied: six in /usr/local/lib/python3.10/dist-packages (from gdown) (1.16.0)\n",
            "Requirement already satisfied: tqdm in /usr/local/lib/python3.10/dist-packages (from gdown) (4.66.1)\n",
            "Requirement already satisfied: beautifulsoup4 in /usr/local/lib/python3.10/dist-packages (from gdown) (4.11.2)\n",
            "Requirement already satisfied: soupsieve>1.2 in /usr/local/lib/python3.10/dist-packages (from beautifulsoup4->gdown) (2.5)\n",
            "Requirement already satisfied: charset-normalizer<4,>=2 in /usr/local/lib/python3.10/dist-packages (from requests[socks]->gdown) (3.3.2)\n",
            "Requirement already satisfied: idna<4,>=2.5 in /usr/local/lib/python3.10/dist-packages (from requests[socks]->gdown) (3.6)\n",
            "Requirement already satisfied: urllib3<3,>=1.21.1 in /usr/local/lib/python3.10/dist-packages (from requests[socks]->gdown) (2.0.7)\n",
            "Requirement already satisfied: certifi>=2017.4.17 in /usr/local/lib/python3.10/dist-packages (from requests[socks]->gdown) (2023.11.17)\n",
            "Requirement already satisfied: PySocks!=1.5.7,>=1.5.6 in /usr/local/lib/python3.10/dist-packages (from requests[socks]->gdown) (1.7.1)\n",
            "Installing collected packages: gdown\n",
            "  Attempting uninstall: gdown\n",
            "    Found existing installation: gdown 4.6.6\n",
            "    Uninstalling gdown-4.6.6:\n",
            "      Successfully uninstalled gdown-4.6.6\n",
            "Successfully installed gdown-4.7.1\n",
            "Collecting yacs\n",
            "  Downloading yacs-0.1.8-py3-none-any.whl (14 kB)\n",
            "Requirement already satisfied: PyYAML in /usr/local/lib/python3.10/dist-packages (from yacs) (6.0.1)\n",
            "Installing collected packages: yacs\n",
            "Successfully installed yacs-0.1.8\n",
            "Collecting filterpy\n",
            "  Downloading filterpy-1.4.5.zip (177 kB)\n",
            "\u001b[2K     \u001b[90m━━━━━━━━━━━━━━━━━━━━━━━━━━━━━━━━━━━━━━━━\u001b[0m \u001b[32m178.0/178.0 kB\u001b[0m \u001b[31m1.6 MB/s\u001b[0m eta \u001b[36m0:00:00\u001b[0m\n",
            "\u001b[?25h  Preparing metadata (setup.py) ... \u001b[?25l\u001b[?25hdone\n",
            "Requirement already satisfied: numpy in /usr/local/lib/python3.10/dist-packages (from filterpy) (1.23.5)\n",
            "Requirement already satisfied: scipy in /usr/local/lib/python3.10/dist-packages (from filterpy) (1.11.4)\n",
            "Requirement already satisfied: matplotlib in /usr/local/lib/python3.10/dist-packages (from filterpy) (3.7.1)\n",
            "Requirement already satisfied: contourpy>=1.0.1 in /usr/local/lib/python3.10/dist-packages (from matplotlib->filterpy) (1.2.0)\n",
            "Requirement already satisfied: cycler>=0.10 in /usr/local/lib/python3.10/dist-packages (from matplotlib->filterpy) (0.12.1)\n",
            "Requirement already satisfied: fonttools>=4.22.0 in /usr/local/lib/python3.10/dist-packages (from matplotlib->filterpy) (4.46.0)\n",
            "Requirement already satisfied: kiwisolver>=1.0.1 in /usr/local/lib/python3.10/dist-packages (from matplotlib->filterpy) (1.4.5)\n",
            "Requirement already satisfied: packaging>=20.0 in /usr/local/lib/python3.10/dist-packages (from matplotlib->filterpy) (23.2)\n",
            "Requirement already satisfied: pillow>=6.2.0 in /usr/local/lib/python3.10/dist-packages (from matplotlib->filterpy) (9.4.0)\n",
            "Requirement already satisfied: pyparsing>=2.3.1 in /usr/local/lib/python3.10/dist-packages (from matplotlib->filterpy) (3.1.1)\n",
            "Requirement already satisfied: python-dateutil>=2.7 in /usr/local/lib/python3.10/dist-packages (from matplotlib->filterpy) (2.8.2)\n",
            "Requirement already satisfied: six>=1.5 in /usr/local/lib/python3.10/dist-packages (from python-dateutil>=2.7->matplotlib->filterpy) (1.16.0)\n",
            "Building wheels for collected packages: filterpy\n",
            "  Building wheel for filterpy (setup.py) ... \u001b[?25l\u001b[?25hdone\n",
            "  Created wheel for filterpy: filename=filterpy-1.4.5-py3-none-any.whl size=110458 sha256=d357f81feadff521889b96a23628faf8e8e761f742e44191e838b78d9e9033c8\n",
            "  Stored in directory: /root/.cache/pip/wheels/0f/0c/ea/218f266af4ad626897562199fbbcba521b8497303200186102\n",
            "Successfully built filterpy\n",
            "Installing collected packages: filterpy\n",
            "Successfully installed filterpy-1.4.5\n",
            "Collecting einops\n",
            "  Downloading einops-0.7.0-py3-none-any.whl (44 kB)\n",
            "\u001b[2K     \u001b[90m━━━━━━━━━━━━━━━━━━━━━━━━━━━━━━━━━━━━━━━━\u001b[0m \u001b[32m44.6/44.6 kB\u001b[0m \u001b[31m797.3 kB/s\u001b[0m eta \u001b[36m0:00:00\u001b[0m\n",
            "\u001b[?25hInstalling collected packages: einops\n",
            "Successfully installed einops-0.7.0\n",
            "Collecting yt-dlp\n",
            "  Downloading yt_dlp-2023.11.16-py2.py3-none-any.whl (3.1 MB)\n",
            "\u001b[2K     \u001b[90m━━━━━━━━━━━━━━━━━━━━━━━━━━━━━━━━━━━━━━━━\u001b[0m \u001b[32m3.1/3.1 MB\u001b[0m \u001b[31m11.0 MB/s\u001b[0m eta \u001b[36m0:00:00\u001b[0m\n",
            "\u001b[?25hRequirement already satisfied: moviepy in /usr/local/lib/python3.10/dist-packages (1.0.3)\n",
            "Collecting mutagen (from yt-dlp)\n",
            "  Downloading mutagen-1.47.0-py3-none-any.whl (194 kB)\n",
            "\u001b[2K     \u001b[90m━━━━━━━━━━━━━━━━━━━━━━━━━━━━━━━━━━━━━━━━\u001b[0m \u001b[32m194.4/194.4 kB\u001b[0m \u001b[31m23.6 MB/s\u001b[0m eta \u001b[36m0:00:00\u001b[0m\n",
            "\u001b[?25hCollecting pycryptodomex (from yt-dlp)\n",
            "  Downloading pycryptodomex-3.19.0-cp35-abi3-manylinux_2_17_x86_64.manylinux2014_x86_64.whl (2.1 MB)\n",
            "\u001b[2K     \u001b[90m━━━━━━━━━━━━━━━━━━━━━━━━━━━━━━━━━━━━━━━━\u001b[0m \u001b[32m2.1/2.1 MB\u001b[0m \u001b[31m63.9 MB/s\u001b[0m eta \u001b[36m0:00:00\u001b[0m\n",
            "\u001b[?25hCollecting websockets (from yt-dlp)\n",
            "  Downloading websockets-12.0-cp310-cp310-manylinux_2_5_x86_64.manylinux1_x86_64.manylinux_2_17_x86_64.manylinux2014_x86_64.whl (130 kB)\n",
            "\u001b[2K     \u001b[90m━━━━━━━━━━━━━━━━━━━━━━━━━━━━━━━━━━━━━━━━\u001b[0m \u001b[32m130.2/130.2 kB\u001b[0m \u001b[31m18.0 MB/s\u001b[0m eta \u001b[36m0:00:00\u001b[0m\n",
            "\u001b[?25hRequirement already satisfied: certifi in /usr/local/lib/python3.10/dist-packages (from yt-dlp) (2023.11.17)\n",
            "Requirement already satisfied: requests<3,>=2.31.0 in /usr/local/lib/python3.10/dist-packages (from yt-dlp) (2.31.0)\n",
            "Requirement already satisfied: urllib3<3,>=1.26.17 in /usr/local/lib/python3.10/dist-packages (from yt-dlp) (2.0.7)\n",
            "Collecting brotli (from yt-dlp)\n",
            "  Downloading Brotli-1.1.0-cp310-cp310-manylinux_2_5_x86_64.manylinux1_x86_64.manylinux_2_12_x86_64.manylinux2010_x86_64.whl (3.0 MB)\n",
            "\u001b[2K     \u001b[90m━━━━━━━━━━━━━━━━━━━━━━━━━━━━━━━━━━━━━━━━\u001b[0m \u001b[32m3.0/3.0 MB\u001b[0m \u001b[31m83.0 MB/s\u001b[0m eta \u001b[36m0:00:00\u001b[0m\n",
            "\u001b[?25hRequirement already satisfied: decorator<5.0,>=4.0.2 in /usr/local/lib/python3.10/dist-packages (from moviepy) (4.4.2)\n",
            "Requirement already satisfied: tqdm<5.0,>=4.11.2 in /usr/local/lib/python3.10/dist-packages (from moviepy) (4.66.1)\n",
            "Requirement already satisfied: proglog<=1.0.0 in /usr/local/lib/python3.10/dist-packages (from moviepy) (0.1.10)\n",
            "Requirement already satisfied: numpy>=1.17.3 in /usr/local/lib/python3.10/dist-packages (from moviepy) (1.23.5)\n",
            "Requirement already satisfied: imageio<3.0,>=2.5 in /usr/local/lib/python3.10/dist-packages (from moviepy) (2.31.6)\n",
            "Requirement already satisfied: imageio-ffmpeg>=0.2.0 in /usr/local/lib/python3.10/dist-packages (from moviepy) (0.4.9)\n",
            "Requirement already satisfied: pillow<10.1.0,>=8.3.2 in /usr/local/lib/python3.10/dist-packages (from imageio<3.0,>=2.5->moviepy) (9.4.0)\n",
            "Requirement already satisfied: setuptools in /usr/local/lib/python3.10/dist-packages (from imageio-ffmpeg>=0.2.0->moviepy) (67.7.2)\n",
            "Requirement already satisfied: charset-normalizer<4,>=2 in /usr/local/lib/python3.10/dist-packages (from requests<3,>=2.31.0->yt-dlp) (3.3.2)\n",
            "Requirement already satisfied: idna<4,>=2.5 in /usr/local/lib/python3.10/dist-packages (from requests<3,>=2.31.0->yt-dlp) (3.6)\n",
            "Installing collected packages: brotli, websockets, pycryptodomex, mutagen, yt-dlp\n",
            "Successfully installed brotli-1.1.0 mutagen-1.47.0 pycryptodomex-3.19.0 websockets-12.0 yt-dlp-2023.11.16\n",
            "Requirement already satisfied: matplotlib==3.7.1 in /usr/local/lib/python3.10/dist-packages (3.7.1)\n",
            "Requirement already satisfied: contourpy>=1.0.1 in /usr/local/lib/python3.10/dist-packages (from matplotlib==3.7.1) (1.2.0)\n",
            "Requirement already satisfied: cycler>=0.10 in /usr/local/lib/python3.10/dist-packages (from matplotlib==3.7.1) (0.12.1)\n",
            "Requirement already satisfied: fonttools>=4.22.0 in /usr/local/lib/python3.10/dist-packages (from matplotlib==3.7.1) (4.46.0)\n",
            "Requirement already satisfied: kiwisolver>=1.0.1 in /usr/local/lib/python3.10/dist-packages (from matplotlib==3.7.1) (1.4.5)\n",
            "Requirement already satisfied: numpy>=1.20 in /usr/local/lib/python3.10/dist-packages (from matplotlib==3.7.1) (1.23.5)\n",
            "Requirement already satisfied: packaging>=20.0 in /usr/local/lib/python3.10/dist-packages (from matplotlib==3.7.1) (23.2)\n",
            "Requirement already satisfied: pillow>=6.2.0 in /usr/local/lib/python3.10/dist-packages (from matplotlib==3.7.1) (9.4.0)\n",
            "Requirement already satisfied: pyparsing>=2.3.1 in /usr/local/lib/python3.10/dist-packages (from matplotlib==3.7.1) (3.1.1)\n",
            "Requirement already satisfied: python-dateutil>=2.7 in /usr/local/lib/python3.10/dist-packages (from matplotlib==3.7.1) (2.8.2)\n",
            "Requirement already satisfied: six>=1.5 in /usr/local/lib/python3.10/dist-packages (from python-dateutil>=2.7->matplotlib==3.7.1) (1.16.0)\n"
          ]
        }
      ],
      "source": [
        "#StridedTransformer-Pose3Dに必要なライブラリをインストール\n",
        "\n",
        "%cd /content/drive/MyDrive/MyColab/StridedTransformer-Pose3D\n",
        "\n",
        "!pip install --upgrade gdown\n",
        "!pip install yacs\n",
        "!pip install filterpy\n",
        "!pip install einops\n",
        "!pip install yt-dlp moviepy\n",
        "!pip install matplotlib==3.7.1"
      ]
    },
    {
      "cell_type": "code",
      "execution_count": null,
      "metadata": {
        "colab": {
          "base_uri": "https://localhost:8080/"
        },
        "id": "gzeydHDZ5v_7",
        "outputId": "998968b7-8615-4b99-ec77-16b1655400d7"
      },
      "outputs": [
        {
          "output_type": "stream",
          "name": "stdout",
          "text": [
            "/content/drive/MyDrive/MyColab/StridedTransformer-Pose3D\n"
          ]
        }
      ],
      "source": [
        "#インストールした各ライブラリをインポート\n",
        "\n",
        "%cd /content/drive/MyDrive/MyColab/StridedTransformer-Pose3D\n",
        "\n",
        "import os\n",
        "from yt_dlp import YoutubeDL\n",
        "\n",
        "from moviepy.video.fx.resize import resize\n",
        "from moviepy.editor import VideoFileClip, AudioFileClip, ImageSequenceClip, CompositeAudioClip\n",
        "from moviepy.video.io.ffmpeg_tools import ffmpeg_extract_subclip"
      ]
    },
    {
      "cell_type": "code",
      "execution_count": null,
      "metadata": {
        "colab": {
          "base_uri": "https://localhost:8080/"
        },
        "id": "jpjNoj7N6kMe",
        "outputId": "067f9e34-2b5e-4222-b00f-8c6410014d3a"
      },
      "outputs": [
        {
          "output_type": "stream",
          "name": "stdout",
          "text": [
            "/content/drive/MyDrive/MyColab/StridedTransformer-Pose3D\n"
          ]
        }
      ],
      "source": [
        "#学習済みモデルダウンロード\n",
        "\n",
        "%cd /content/drive/MyDrive/MyColab/StridedTransformer-Pose3D\n",
        "!mkdir -p ./checkpoint/pretrained\n",
        "\n",
        "if not os.path.exists('checkpoint/pretrained/refine_4365.pth'):\n",
        "  !gdown https://drive.google.com/uc?id=1aDLu0SB9JnPYZOOzQsJMV9zEIHg2Uro7 -O checkpoint/pretrained/refine_4365.pth\n",
        "if not os.path.exists('checkpoint/pretrained/no_refine_4365.pth'):\n",
        "  !gdown https://drive.google.com/uc?id=1l63AI9BsNovpfTAbfAkySo9X2MOWgYZH -O checkpoint/pretrained/no_refine_4365.pth\n",
        "\n",
        "if not os.path.exists('demo/lib/checkpoint/yolov3.weights'):\n",
        "  !gdown https://drive.google.com/uc?id=1gWZl1VrlLZKBf0Pfkj4hKiFxe8sHP-1C -O demo/lib/checkpoint/yolov3.weights\n",
        "if not os.path.exists('demo/lib/checkpoint/pose_hrnet_w48_384x288.pth'):\n",
        "  !gdown https://drive.google.com/uc?id=1CpyZiUIUlEjiql4rILwdBT4666S72Oq4 -O demo/lib/checkpoint/pose_hrnet_w48_384x288.pth"
      ]
    },
    {
      "cell_type": "code",
      "execution_count": null,
      "metadata": {
        "colab": {
          "base_uri": "https://localhost:8080/"
        },
        "id": "2VGaR33rmSbS",
        "outputId": "b85df95f-c115-4b2e-b6e9-552df9d1dea4"
      },
      "outputs": [
        {
          "output_type": "stream",
          "name": "stdout",
          "text": [
            "/content/drive/MyDrive/MyColab/StridedTransformer-Pose3D\n",
            "/content/drive/MyDrive/MyColab/StridedTransformer-Pose3D/demo/lib/sort/sort.py:16: NumbaDeprecationWarning: The 'nopython' keyword argument was not supplied to the 'numba.jit' decorator. The implicit default value for this argument is currently False, but it will be changed to True in Numba 0.59.0. See https://numba.readthedocs.io/en/stable/reference/deprecation.html#deprecation-of-object-mode-fall-back-behaviour-when-using-jit for details.\n",
            "  def iou(bb_test, bb_gt):\n",
            "\n",
            "Generating 2D pose...\n",
            "100% 241/241 [00:35<00:00,  6.77it/s]\n",
            "Generating 2D pose successful!\n",
            "\n",
            "Generating 3D pose...\n",
            "  8% 20/241 [00:12<02:11,  1.68it/s]/content/drive/MyDrive/MyColab/StridedTransformer-Pose3D/demo/vis.py:224: RuntimeWarning: More than 20 figures have been opened. Figures created through the pyplot interface (`matplotlib.pyplot.figure`) are retained until explicitly closed and may consume too much memory. (To control this warning, see the rcParam `figure.max_open_warning`). Consider using `matplotlib.pyplot.close()`.\n",
            "  fig = plt.figure( figsize=(9.6, 5.4))\n",
            "100% 241/241 [02:44<00:00,  1.47it/s]\n",
            "/content/output.csv にデータが書き込まれました。\n",
            "Generating 3D pose successful!\n",
            "\n",
            "Generating demo...\n",
            "100% 241/241 [03:51<00:00,  1.04it/s]\n",
            "Generating demo successful!\n"
          ]
        }
      ],
      "source": [
        "##vis.py実行\n",
        "%cd /content/drive/MyDrive/MyColab/StridedTransformer-Pose3D\n",
        "\n",
        "!python demo/vis.py --video kickmotion_0003_L.mov\n",
        "\n",
        "#出力結果はoutputのフォルダ内"
      ]
    },
    {
      "cell_type": "code",
      "execution_count": null,
      "metadata": {
        "id": "TjwDSFjr6kP-"
      },
      "outputs": [],
      "source": [
        "#StridedTransformer/demo/videoに、youtubeから切り取った入力動画を配置\n",
        "\n",
        "%cd /content/drive/MyDrive/MyColab/StridedTransformer-Pose3D\n",
        "\n",
        "video_url = 'https://youtu.be/0wVKezD0Czw' #@param {type:\"string\"}\n",
        "\n",
        "#@markdown 動画の切り抜き範囲(秒)を指定してください。\\\n",
        "#@markdown 30秒以上の場合OOM発生の可能性が高いため注意\n",
        "start_sec =  0#@param {type:\"integer\"}\n",
        "end_sec =  8#@param {type:\"integer\"}\n",
        "\n",
        "(start_pt, end_pt) = (start_sec, end_sec)\n",
        "\n",
        "download_resolution = 360\n",
        "full_video_path = '/content/drive/MyDrive/MyColab/StridedTransformer-Pose3D/demo/video/full_video.mp4'\n",
        "file_name = 'input_clip.mp4'\n",
        "input_clip_path = '/content/drive/MyDrive/MyColab/StridedTransformer-Pose3D/demo/video/' + file_name\n",
        "\n",
        "# 動画ダウンロード\n",
        "ydl_opts = {'format': f'best[height<={download_resolution}]', 'overwrites': True, 'outtmpl': full_video_path}\n",
        "with YoutubeDL(ydl_opts) as ydl:\n",
        "    ydl.download([video_url])\n",
        "\n",
        "# 指定区間切り抜き\n",
        "with VideoFileClip(full_video_path) as video:\n",
        "    subclip = video.subclip(start_pt, end_pt)\n",
        "    subclip.write_videofile(input_clip_path)"
      ]
    },
    {
      "cell_type": "code",
      "execution_count": null,
      "metadata": {
        "id": "n6HRv8I-7TPh"
      },
      "outputs": [],
      "source": [
        "#入力ファイルを指定してvis.pyを実行する(実行結果はStridedTransformer/demo/output/input_clip/input_clip.mp4)\n",
        "\n",
        "%cd /content/drive/MyDrive/MyColab/StridedTransformer-Pose3D\n",
        "\n",
        "!python demo/vis.py --video {file_name}\n",
        "\n",
        "output = VideoFileClip('/content/drive/MyDrive/MyColab/StridedTransformer-Pose3D/demo/output/input_clip/input_clip.mp4')\n",
        "output = resize(output, height=420)\n",
        "output.ipython_display()"
      ]
    },
    {
      "cell_type": "code",
      "execution_count": null,
      "metadata": {
        "id": "Ek7XwT6_FRrZ",
        "colab": {
          "base_uri": "https://localhost:8080/",
          "height": 645
        },
        "outputId": "6250203b-96d4-4b0f-a03f-30fa47a57560"
      },
      "outputs": [
        {
          "output_type": "display_data",
          "data": {
            "text/plain": [
              "<Figure size 1200x1200 with 3 Axes>"
            ],
            "image/png": "[encoded data removed]"
          },
          "metadata": {}
        }
      ],
      "source": [
        "#関節角度＆速度の計算\n",
        "import csv\n",
        "import math\n",
        "import numpy as np\n",
        "import matplotlib.pyplot as plt\n",
        "from mpl_toolkits.mplot3d import Axes3D\n",
        "import matplotlib.animation as animation\n",
        "\n",
        "# 17行3列ずつデータを読み取る関数\n",
        "def read_3d_data(file, batch_size=17):\n",
        "    data = []\n",
        "    with open(file, mode='r', newline='') as csvfile:\n",
        "        reader = csv.reader(csvfile)\n",
        "        batch = []\n",
        "        for row in reader:\n",
        "            batch.append([float(val) for val in row])\n",
        "            if len(batch) == batch_size:\n",
        "                data.append(batch)\n",
        "                batch = []\n",
        "    return data\n",
        "\n",
        "# 関節角度を計算する関数\n",
        "def joint_deg(data, joint_num):\n",
        "    deg = []\n",
        "    joint_num = joint_num - 1\n",
        "    for frame in range(len(data)):\n",
        "        a = data[frame][joint_num - 1] - data[frame][joint_num]\n",
        "        b = data[frame][joint_num + 1] - data[frame][joint_num]\n",
        "        x = np.dot(a, b) / (np.linalg.norm(a) * np.linalg.norm(b))\n",
        "        rad = math.acos(x)\n",
        "        deg.append(math.degrees(rad))\n",
        "    return deg\n",
        "\n",
        "# 関節速度を計算する関数\n",
        "def joint_v(data,joint_num):\n",
        "    v = []\n",
        "    joint_num = joint_num - 1\n",
        "    for frame in range(len(data)-1):\n",
        "        d = data[frame+1][joint_num] - data[frame][joint_num]\n",
        "        v.append(np.linalg.norm(d))\n",
        "    return v\n",
        "\n",
        "\n",
        "# CSVファイル名\n",
        "csv_filename = '/content/drive/MyDrive/MyColab/StridedTransformer-Pose3D/demo/csvdata/kickmotion_0003_L.csv'#@param {type:\"string\"}\n",
        "\n",
        "# 三次元関節座標データの読み込み\n",
        "data = read_3d_data(csv_filename)\n",
        "data = np.array(data) #tuple型から変換\n",
        "\n",
        "fig = plt.figure(figsize=(12,12)) #グラフ用意\n",
        "\n",
        "# 右足関節角度グラフ表示\n",
        "joint_deg_right_num = 6#@param {type:\"integer\"}\n",
        "deg_right = joint_deg(data, joint_deg_right_num)\n",
        "t = np.arange(len(data))/30\n",
        "\n",
        "ax_deg_3 = fig.add_subplot(2, 2, 1)\n",
        "ax_deg_3.set_title(\"Joint Degree \" + str(joint_deg_right_num))\n",
        "ax_deg_3.set_xlabel(\"Time [s]\")\n",
        "ax_deg_3.set_ylabel(\"Degree [°]\")\n",
        "ax_deg_3.set_xlim([0, 8])\n",
        "ax_deg_3.set_ylim([0, 180])\n",
        "ax_deg_3.plot(t, deg_right, color=\"blue\")\n",
        "\n",
        "# 左足関節角度グラフ表示\n",
        "joint_deg_left_num = 3#@param {type:\"integer\"}\n",
        "deg_left = joint_deg(data, joint_deg_left_num)\n",
        "t = np.arange(len(data))/30\n",
        "\n",
        "ax_deg_3 = fig.add_subplot(2, 2, 2)\n",
        "ax_deg_3.set_title(\"Joint Degree \" + str(joint_deg_left_num))\n",
        "ax_deg_3.set_xlabel(\"Time [s]\")\n",
        "ax_deg_3.set_ylabel(\"Degree [°]\")\n",
        "ax_deg_3.set_xlim([0, 8])\n",
        "ax_deg_3.set_ylim([0, 180])\n",
        "ax_deg_3.plot(t, deg_left, color=\"orange\")\n",
        "\n",
        "\"\"\"\n",
        "# 関節速度グラフ表示\n",
        "joint_deg_num2 = 6\n",
        "v = joint_v(data, joint_v_num)\n",
        "t = np.arange(len(data)-1)\n",
        "\n",
        "ax_v_3 = fig.add_subplot(2, 2, 2)\n",
        "ax_v_3.set_title(\"Joint Velocity \" + str(joint_v_num))\n",
        "ax_v_3.set_xlabel(\"Time [frame]\")\n",
        "ax_v_3.set_ylabel(\"Velocity  [distans/frame]\")\n",
        "ax_v_3.set_xlim([0, 240])\n",
        "ax_v_3.set_ylim([0, 0.1])\n",
        "ax_v_3.plot(t, v, color=\"orange\")\n",
        "\"\"\"\n",
        "\n",
        "# 関節角度＆角度の散布図表示\n",
        "ax_v_3 = fig.add_subplot(2, 2, 3)\n",
        "ax_v_3.set_title(\"Scatter Plot of \" + str(joint_deg_right_num) + \" and \" + str(joint_deg_left_num))\n",
        "ax_v_3.set_xlabel(\"Right Degree [°]\")\n",
        "ax_v_3.set_ylabel(\"Left Degree [°]\")\n",
        "ax_v_3.set_xlim([0, 180])\n",
        "ax_v_3.set_ylim([0, 180])\n",
        "ax_v_3.plot(deg_right, deg_left, color=\"red\")\n",
        "\n",
        "plt.show()"
      ]
    },
    {
      "cell_type": "code",
      "execution_count": null,
      "metadata": {
        "id": "b4FWt4ykoIu8"
      },
      "outputs": [],
      "source": [
        "#vis.pyのpost_outから得た関節情報から3Dグラフを作成\n",
        "import csv\n",
        "import numpy as np\n",
        "import matplotlib.pyplot as plt\n",
        "from mpl_toolkits.mplot3d import Axes3D\n",
        "import matplotlib.animation as animation\n",
        "from IPython.display import HTML\n",
        "\n",
        "# CSVファイル名\n",
        "csv_filename = '/content/output.csv'\n",
        "\n",
        "# 17行3列のデータを読み取る関数\n",
        "def read_3d_data(file, batch_size=17):\n",
        "    data = []\n",
        "    with open(file, mode='r', newline='') as csvfile:\n",
        "        reader = csv.reader(csvfile)\n",
        "        batch = []\n",
        "        for row in reader:\n",
        "            batch.append([float(val) for val in row])\n",
        "            if len(batch) == batch_size:\n",
        "                data.append(batch)\n",
        "                batch = []\n",
        "    return data\n",
        "\n",
        "# 三次元座標データの読み込み\n",
        "data = read_3d_data(csv_filename)\n",
        "data = np.array(data) #tuple型から変換\n",
        "\n",
        "# プロットの準備\n",
        "fig = plt.figure()\n",
        "ax = fig.add_subplot(111, projection='3d')\n",
        "ax.view_init(elev=15., azim=70)\n",
        "\n",
        "# タイトルを設定\n",
        "frame_number = 0  # 初期フレーム数\n",
        "title = ax.set_title(\"frame\")\n",
        "\n",
        "ax.set_xlim([-0.8, 0.8])  # x軸の範囲を設定\n",
        "ax.set_ylim([-0.8, 0.8])  # y軸の範囲を設定\n",
        "ax.set_zlim([0, 1.6])  # z軸の範囲を設定\n",
        "\n",
        "# X、Y、Z軸にラベルを設定\n",
        "ax.set_xlabel('x')\n",
        "ax.set_ylabel('y')\n",
        "ax.set_zlabel('z')\n",
        "\n",
        "sc = ax.scatter([], [], [], marker='o')\n",
        "\n",
        "# フレーム更新用の関数\n",
        "def update(frame):\n",
        "\n",
        "    sc._offsets3d = (data[frame][:, 0], data[frame][:, 1], data[frame][:, 2])\n",
        "\n",
        "    # タイトルを更新\n",
        "    title.set_text('frame={}'.format(frame))\n",
        "\n",
        "    # 凡例を追加\n",
        "    for text in ax.texts: #前フレームの凡例を削除\n",
        "        text.set_visible(False)\n",
        "\n",
        "    for i, (x, y, z) in enumerate(zip(data[frame][:, 0], data[frame][:, 1], data[frame][:, 2]), start=1): #現フレームの凡例作成\n",
        "        ax.text(x, y, z, str(i), fontsize=8, ha='center', va='center')\n",
        "\n",
        "    return sc, title\n",
        "\n",
        "# アニメーションの作成\n",
        "ani = animation.FuncAnimation(fig, update, frames=len(data), blit=False)\n",
        "\n",
        "# 動画ファイルの保存\n",
        "Writer = animation.writers['ffmpeg']\n",
        "writer = Writer(fps=30, metadata=dict(artist='Me'), bitrate=1800)\n",
        "ani.save('/content/output.mp4', writer=writer)\n",
        "\n",
        "# プロットの表示（任意）\n",
        "plt.show()"
      ]
    },
    {
      "cell_type": "code",
      "execution_count": null,
      "metadata": {
        "id": "r0GK3LXdYyTD"
      },
      "outputs": [],
      "source": [
        "#フォルダの削除\n",
        "import shutil\n",
        "\n",
        "directory = '/content/drive/MyDrive/MyColab/StridedTransformer-Pose3D/StridedTransformer'\n",
        "\n",
        "try:\n",
        "    shutil.rmtree(directory)\n",
        "except FileNotFoundError:\n",
        "    pass\n",
        "\n",
        "#同名のフォルダを作成する\n",
        "#os.mkdir(directory)"
      ]
    },
    {
      "cell_type": "code",
      "execution_count": null,
      "metadata": {
        "colab": {
          "base_uri": "https://localhost:8080/"
        },
        "id": "sk4IsaFe-voy",
        "outputId": "23422729-b43e-4f1b-ef56-c4fd25b797b0"
      },
      "outputs": [
        {
          "name": "stdout",
          "output_type": "stream",
          "text": [
            "Python 3.10.12\n"
          ]
        }
      ],
      "source": [
        "#pythonのバージョン確認\n",
        "\n",
        "!python --version"
      ]
    },
    {
      "cell_type": "code",
      "execution_count": null,
      "metadata": {
        "colab": {
          "base_uri": "https://localhost:8080/"
        },
        "id": "goYUO7dJ5Uy6",
        "outputId": "2bcc8610-87ea-4ecb-9eaf-08f413ec2b78"
      },
      "outputs": [
        {
          "output_type": "stream",
          "name": "stdout",
          "text": [
            "/content/drive/MyDrive/MyColab/StridedTransformer-Pose3D\n",
            "Reinitialized existing Git repository in /content/drive/MyDrive/MyColab/StridedTransformer-Pose3D/.git/\n"
          ]
        }
      ],
      "source": [
        "%cd /content/drive/MyDrive/MyColab/StridedTransformer-Pose3D\n",
        "\n",
        "!git remote remove origin\n",
        "!git init\n",
        "!git remote add origin https://github.com/Sumisumisumith/Kickmotion-Evaluation-System.git\n",
        "!git add .\n",
        "!git commit -m \"Initial commit\"\n",
        "!git push -u origin main"
      ]
    },
    {
      "cell_type": "code",
      "source": [
        "##動画スロー化\n",
        "import cv2\n",
        "\n",
        "# 動画を読み込み、FPSを変更して別名で保存する関数\n",
        "def m_speed_change(path_in, path_out, scale_factor, color_flag):\n",
        "    # 動画読み込みの設定\n",
        "    movie = cv2.VideoCapture(path_in)\n",
        "\n",
        "    # 動画ファイル保存用の設定\n",
        "    fps = int(movie.get(cv2.CAP_PROP_FPS))                                  # 元動画のFPSを取得\n",
        "    fps_new = int(fps * scale_factor)                                       # 動画保存時のFPSはスケールファクターをかける\n",
        "    w = int(movie.get(cv2.CAP_PROP_FRAME_WIDTH))                            # 動画の横幅を取得\n",
        "    h = int(movie.get(cv2.CAP_PROP_FRAME_HEIGHT))                           # 動画の縦幅を取得\n",
        "    fourcc = cv2.VideoWriter_fourcc('m', 'p', '4', 'v')                     # 動画保存時のfourcc設定（mp4用）\n",
        "    video = cv2.VideoWriter(path_out, fourcc, fps_new, (w, h), color_flag)  # 動画の仕様（ファイル名、fourcc, FPS, サイズ）\n",
        "\n",
        "    # ファイルからフレームを1枚ずつ取得して動画処理後に保存する\n",
        "    while True:\n",
        "        ret, frame = movie.read()        # フレームを取得\n",
        "        video.write(frame)               # 動画を保存する\n",
        "        # フレームが取得できない場合はループを抜ける\n",
        "        if not ret:\n",
        "            break\n",
        "    # 撮影用オブジェクトとウィンドウの解放\n",
        "    movie.release()\n",
        "    return\n",
        "\n",
        "path_in = '/content/drive/MyDrive/MyColab/StridedTransformer-Pose3D/demo/video/video.MOV'          # 元動画のパス\n",
        "path_out = '/content/drive/MyDrive/MyColab/StridedTransformer-Pose3D/demo/video/slow_video.mp4'      # 保存する動画のパス\n",
        "scale_factor = 0.125              # FPSにかけるスケールファクター\n",
        "color_flag = True               # カラー動画はTrue, グレースケール動画はFalse\n",
        "\n",
        "# 動画の再生速度を変更する関数を実行\n",
        "m_speed_change(path_in, path_out, scale_factor, color_flag)"
      ],
      "metadata": {
        "id": "HEU44EKtLwHa"
      },
      "execution_count": null,
      "outputs": []
    }
  ],
  "metadata": {
    "accelerator": "GPU",
    "colab": {
      "provenance": [],
      "mount_file_id": "1tWefkXOHoauKSpXEhTnYoeL3vNN2H6FS",
      "authorship_tag": "ABX9TyNXBHtTG3yN2drHl+m0Q/E1",
      "include_colab_link": true
    },
    "kernelspec": {
      "display_name": "Python 3",
      "name": "python3"
    },
    "language_info": {
      "name": "python"
    }
  },
  "nbformat": 4,
  "nbformat_minor": 0
}